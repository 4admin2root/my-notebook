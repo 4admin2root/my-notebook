{
 "cells": [
  {
   "cell_type": "markdown",
   "metadata": {},
   "source": [
    "# es index 优化\n",
    "\n",
    "## close index\n",
    "\n",
    "### 测试\n",
    "\n",
    "\n",
    "* 查看当前各个node segments使用情况\n",
    "\n",
    "```\n",
    "curl '172.21.2.40:9200/_cat/nodes?v&h=name,segments.count,segments.memory,segments.index_writer_memory,segments.version_map_memory,segments.fixed_bitset_memory'\n",
    "name segments.count segments.memory segments.index_writer_memory segments.version_map_memory segments.fixed_bitset_memory\n",
    "node138 0 0b 0b 0b 0b\n",
    "node160 13644 304.6mb 0b 0b 0b\n",
    "node161 13576 299.7mb 0b 0b 0b\n",
    "node139 0 0b 0b 0b 0b\n",
    "node159 13711 299.5mb 0b 0b 0b\n",
    "```\n",
    "\n",
    "* 执行索引关闭操作\n",
    "\n",
    "``` \n",
    "curl  '172.21.2.40:9200/_cat/indices' -s |grep 2017 |wc -l\n",
    "\n",
    "100\n",
    "\n",
    "curl -XPOST '172.21.2.40:9200/*2017*/_close?pretty' -d ''\n",
    "\n",
    "```\n",
    "\n",
    "\n",
    "* 查看关闭索引后各个node segments使用情况\n",
    "\n",
    "```\n",
    "name segments.count segments.memory segments.index_writer_memory segments.version_map_memory segments.fixed_bitset_memory\n",
    "node138 0 0b 0b 0b 0b\n",
    "node160 11517 266.5mb 0b 0b 0b\n",
    "node161 11534 263.7mb 0b 0b 0b\n",
    "node139 0 0b 0b 0b 0b\n",
    "node159 11644 263.1mb 3.9mb 0b 0b\n",
    "```\n",
    "\n",
    "* 检查各个node节点io、cpu和内存情况\n",
    "\n",
    "未发现明显变化 （注意：如果打开索引时，如果数据量较大，cpu和io将有明显升高）\n",
    "\n",
    "\n",
    "\n",
    "\n",
    "### 生产环境规划\n",
    "\n",
    "* 先关闭2017年所有index\n",
    "\n",
    "``` \n",
    "curl -XPOST '172.21.0.40:9200/*2017*/_cluse' -d ''\n",
    "```\n",
    "\n",
    "* 编写脚本实现每天定时关闭前120天的index\n",
    "\n",
    "```\n",
    "```\n",
    "\n",
    "\n",
    "## force merge index\n",
    "\n",
    "### 测试\n",
    "\n",
    "* \n"
   ]
  },
  {
   "cell_type": "code",
   "execution_count": null,
   "metadata": {},
   "outputs": [
    {
     "name": "stdout",
     "output_type": "stream",
     "text": [
      "+ es_index_log=/tmp/es_index.log\n",
      "++ date -d '1  days ago' +%Y.%m.%d\n",
      "usage: date [-jnRu] [-d dst] [-r seconds] [-t west] [-v[+|-]val[ymwdHMS]] ... \n",
      "            [-f fmt date | [[[mm]dd]HH]MM[[cc]yy][.ss]] [+format]\n",
      "+ yesterday=\n",
      "++ date -d '120  days ago' +%Y.%m.%d\n",
      "usage: date [-jnRu] [-d dst] [-r seconds] [-t west] [-v[+|-]val[ymwdHMS]] ... \n",
      "            [-f fmt date | [[[mm]dd]HH]MM[[cc]yy][.ss]] [+format]\n",
      "+ daysago=\n",
      "+ es_url=http://172.21.2.40:9200/\n",
      "+ index_keywords=(\"application\" \"nginx_frontend\" \"nginx_backend\")\n",
      "++ date +%Y-%m-%d\n",
      "+ echo 2018-04-17\n",
      "+ curl -s 'http://172.21.2.40:9200/_cat/nodes?v&h=name,segments.count,segments.memory,segments.index_writer_memory,segments.version_map_memory,segments.fixed_bitset_memory'\n"
     ]
    }
   ],
   "source": [
    "!bash -x es_index_daily.sh"
   ]
  },
  {
   "cell_type": "code",
   "execution_count": null,
   "metadata": {},
   "outputs": [],
   "source": []
  }
 ],
 "metadata": {
  "kernelspec": {
   "display_name": "Python 3",
   "language": "python",
   "name": "python3"
  },
  "language_info": {
   "codemirror_mode": {
    "name": "ipython",
    "version": 3
   },
   "file_extension": ".py",
   "mimetype": "text/x-python",
   "name": "python",
   "nbconvert_exporter": "python",
   "pygments_lexer": "ipython3",
   "version": "3.6.5"
  }
 },
 "nbformat": 4,
 "nbformat_minor": 2
}
